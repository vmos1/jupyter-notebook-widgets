{
 "cells": [
  {
   "cell_type": "markdown",
   "metadata": {},
   "source": [
    "### Code to test widgets for plotting"
   ]
  },
  {
   "cell_type": "code",
   "execution_count": 1,
   "metadata": {},
   "outputs": [],
   "source": [
    "from IPython.display import display\n",
    "from ipywidgets import *\n",
    "import matplotlib.pyplot as plt\n",
    "import numpy as np\n"
   ]
  },
  {
   "cell_type": "code",
   "execution_count": 2,
   "metadata": {},
   "outputs": [],
   "source": [
    "%matplotlib widget"
   ]
  },
  {
   "cell_type": "code",
   "execution_count": 3,
   "metadata": {},
   "outputs": [
    {
     "data": {
      "application/vnd.jupyter.widget-view+json": {
       "model_id": "b41749f100a44cde8a654f8c16b8f15d",
       "version_major": 2,
       "version_minor": 0
      },
      "text/plain": [
       "aW50ZXJhY3RpdmUoY2hpbGRyZW49KERyb3Bkb3duKGRlc2NyaXB0aW9uPXUnYScsIG9wdGlvbnM9KDEsIDIsIDMpLCB2YWx1ZT0xKSwgT3V0cHV0KCkpLCBfZG9tX2NsYXNzZXM9KHUnd2lkZ2XigKY=\n"
      ]
     },
     "metadata": {},
     "output_type": "display_data"
    },
    {
     "data": {
      "text/plain": [
       "<function __main__.f_plot>"
      ]
     },
     "execution_count": 3,
     "metadata": {},
     "output_type": "execute_result"
    }
   ],
   "source": [
    "def f_plot(a):\n",
    "    x=np.linspace(0,100,500)\n",
    "       \n",
    "    plt_dict={'1':x,'2':x**2,'3':x**3}\n",
    "    y=plt_dict[str(a)]\n",
    "    \n",
    "    plt.figure()\n",
    "    plt.plot(x,y)\n",
    "    plt.show()\n",
    "# f_plot(1)\n",
    "\n",
    "\n",
    "interact(f_plot,a=[1,2,3])"
   ]
  },
  {
   "cell_type": "code",
   "execution_count": 4,
   "metadata": {},
   "outputs": [],
   "source": [
    "\n",
    "x=np.linspace(0,5,500)\n",
    "y=x**2\n",
    "z=x**3- 20*x*2"
   ]
  },
  {
   "cell_type": "code",
   "execution_count": 5,
   "metadata": {},
   "outputs": [
    {
     "data": {
      "application/vnd.jupyter.widget-view+json": {
       "model_id": "f147cba2eb2a4a798505bece72af6f6a",
       "version_major": 2,
       "version_minor": 0
      },
      "text/plain": [
       "FigureCanvasNbAgg()"
      ]
     },
     "metadata": {},
     "output_type": "display_data"
    }
   ],
   "source": [
    "plt.figure()\n",
    "plt.plot(x,y,color='b')\n",
    "plt.plot(x,z,color='r')\n",
    "plt.show()"
   ]
  },
  {
   "cell_type": "code",
   "execution_count": 6,
   "metadata": {},
   "outputs": [
    {
     "data": {
      "application/vnd.jupyter.widget-view+json": {
       "model_id": "5b040d7ad4894ad7b9fd89b7af96fd6f",
       "version_major": 2,
       "version_minor": 0
      },
      "text/plain": [
       "aW50ZXJhY3RpdmUoY2hpbGRyZW49KFRleHQodmFsdWU9dSdXb3JsZCcsIGRlc2NyaXB0aW9uPXUndGV4dCcpLCBPdXRwdXQoKSksIF9kb21fY2xhc3Nlcz0odSd3aWRnZXQtaW50ZXJhY3QnLCnigKY=\n"
      ]
     },
     "metadata": {},
     "output_type": "display_data"
    }
   ],
   "source": [
    "# def greeting(text=\"World\"):\n",
    "#         print(\"Hello {}\".format(text))\n",
    "# interact(greeting, text=\"IPython Widgets\")\n",
    "\n",
    "\n",
    "@interact\n",
    "def greeting(text=\"World\"):\n",
    "        print(\"Hello {}\".format(text))\n",
    "\n",
    "\n"
   ]
  },
  {
   "cell_type": "markdown",
   "metadata": {},
   "source": [
    "### Borrowed code from walkthrough.ipynb in jupyter tutorial"
   ]
  },
  {
   "cell_type": "code",
   "execution_count": 7,
   "metadata": {},
   "outputs": [
    {
     "ename": "NameError",
     "evalue": "name 'data_points' is not defined",
     "output_type": "error",
     "traceback": [
      "\u001b[0;31m\u001b[0m",
      "\u001b[0;31mNameError\u001b[0mTraceback (most recent call last)",
      "\u001b[0;32m<ipython-input-7-cbf2a213d669>\u001b[0m in \u001b[0;36m<module>\u001b[0;34m()\u001b[0m\n\u001b[1;32m      2\u001b[0m x = widgets.FloatSlider(\n\u001b[1;32m      3\u001b[0m     \u001b[0mvalue\u001b[0m\u001b[0;34m=\u001b[0m\u001b[0;36m1.0\u001b[0m\u001b[0;34m,\u001b[0m\u001b[0;34m\u001b[0m\u001b[0m\n\u001b[0;32m----> 4\u001b[0;31m     \u001b[0mmin\u001b[0m\u001b[0;34m=\u001b[0m\u001b[0mnp\u001b[0m\u001b[0;34m.\u001b[0m\u001b[0mmin\u001b[0m\u001b[0;34m(\u001b[0m\u001b[0mdata_points\u001b[0m\u001b[0;34m[\u001b[0m\u001b[0;36m0\u001b[0m\u001b[0;34m]\u001b[0m\u001b[0;34m[\u001b[0m\u001b[0;34m:\u001b[0m\u001b[0;34m,\u001b[0m \u001b[0;36m0\u001b[0m\u001b[0;34m]\u001b[0m\u001b[0;34m)\u001b[0m\u001b[0;34m,\u001b[0m\u001b[0;34m\u001b[0m\u001b[0m\n\u001b[0m\u001b[1;32m      5\u001b[0m     \u001b[0mmax\u001b[0m\u001b[0;34m=\u001b[0m\u001b[0mnp\u001b[0m\u001b[0;34m.\u001b[0m\u001b[0mmax\u001b[0m\u001b[0;34m(\u001b[0m\u001b[0mdata_points\u001b[0m\u001b[0;34m[\u001b[0m\u001b[0;36m1\u001b[0m\u001b[0;34m]\u001b[0m\u001b[0;34m[\u001b[0m\u001b[0;34m:\u001b[0m\u001b[0;34m,\u001b[0m \u001b[0;36m0\u001b[0m\u001b[0;34m]\u001b[0m\u001b[0;34m)\u001b[0m\u001b[0;34m,\u001b[0m\u001b[0;34m\u001b[0m\u001b[0m\n\u001b[1;32m      6\u001b[0m     \u001b[0mstep\u001b[0m\u001b[0;34m=\u001b[0m\u001b[0;36m1.0\u001b[0m\u001b[0;34m,\u001b[0m\u001b[0;34m\u001b[0m\u001b[0m\n",
      "\u001b[0;31mNameError\u001b[0m: name 'data_points' is not defined"
     ]
    }
   ],
   "source": [
    "# Define the x, y, z sliders\n",
    "x = widgets.FloatSlider(\n",
    "    value=1.0,\n",
    "    min=np.min(data_points[0][:, 0]),\n",
    "    max=np.max(data_points[1][:, 0]),\n",
    "    step=1.0,\n",
    "    description='X:',\n",
    "    continuous_update = False\n",
    ")\n",
    "\n",
    "y = widgets.FloatSlider(\n",
    "    value=1.0,\n",
    "    min=np.min(data_points[0][:, 1]),\n",
    "    max=np.max(data_points[1][:, 1]),\n",
    "    step=1.0,\n",
    "    description='Y:',\n",
    "    continuous_update = False\n",
    ")\n",
    "\n",
    "z = widgets.FloatSlider(\n",
    "    value=1.0,\n",
    "    min=np.min(data_points[0][:, 2]),\n",
    "    max=np.max(data_points[1][:, 2]),\n",
    "    step=1.0,\n",
    "    description='Z:',\n",
    "    continuous_update = False\n",
    ")\n",
    "\n",
    "button = widgets.Button(description=\"Predict Point\")"
   ]
  },
  {
   "cell_type": "code",
   "execution_count": null,
   "metadata": {},
   "outputs": [],
   "source": [
    "box = widgets.HBox(children=[x, y, z, button])"
   ]
  },
  {
   "cell_type": "code",
   "execution_count": null,
   "metadata": {},
   "outputs": [],
   "source": [
    "fig = plt.figure(figsize=(13, 6))\n",
    "fig.canvas.set_window_title('Prediction Maker')\n",
    "ax = fig.add_subplot(121, projection='3d')\n",
    "ay = fig.add_subplot(122)\n",
    "ax.set_title('Points in Space')\n",
    "\n",
    "def create_initial_plot():\n",
    "    \"Create the initial plot with all the data_points\"\n",
    "    # Add the points: \n",
    "    i = 0\n",
    "    for group in data_points:\n",
    "        for point in group:\n",
    "            ax.scatter(point[0], point[1], point[2], c=marks_and_colors[i][0], marker=marks_and_colors[i][1])\n",
    "        i = i + 1\n",
    "\n",
    "    # Labels:\n",
    "    ax.set_xlabel('X')\n",
    "    ax.set_ylabel('Y')\n",
    "    ax.set_zlabel('Z')\n",
    "\n",
    "def button_clicked(change):\n",
    "    \"Ran when the button is clicked\"\n",
    "    global my_point\n",
    "    # Remove the old point:\n",
    "    try:\n",
    "        my_point.remove()\n",
    "    except:\n",
    "        print(\"The green point has been added\")\n",
    "        \n",
    "    # Plot our new point:\n",
    "    my_point = ax.scatter(x.value, y.value, z.value, c=\"g\", marker=\"o\", s=600)\n",
    "    \n",
    "    # Make the prediciton:\n",
    "    prediction = make_prediction(np.array([[x.value, y.value, z.value]]))\n",
    "    prob = list(prediction)[0]['probabilities']\n",
    "    \n",
    "    # Plot the prediction:\n",
    "    ay.cla()\n",
    "    ay.set_title('Point Prediction')\n",
    "    ay.bar([0, 1], prob, align='center', color=['red', 'blue'])\n",
    "    ay.set_xticks([0, 1])\n",
    "    ay.set_xticklabels(['red', 'blue'])\n",
    "    \n",
    "create_initial_plot()"
   ]
  },
  {
   "cell_type": "code",
   "execution_count": null,
   "metadata": {},
   "outputs": [],
   "source": [
    "# Listen for when the button is clicked, then make the callback:\n",
    "button.on_click(button_clicked)\n",
    "\n",
    "# Display the box:\n",
    "display(box)"
   ]
  }
 ],
 "metadata": {
  "kernelspec": {
   "display_name": "v_python2",
   "language": "python",
   "name": "v_jpt_py2"
  },
  "language_info": {
   "codemirror_mode": {
    "name": "ipython",
    "version": 2
   },
   "file_extension": ".py",
   "mimetype": "text/x-python",
   "name": "python",
   "nbconvert_exporter": "python",
   "pygments_lexer": "ipython2",
   "version": "2.7.15"
  }
 },
 "nbformat": 4,
 "nbformat_minor": 2
}
